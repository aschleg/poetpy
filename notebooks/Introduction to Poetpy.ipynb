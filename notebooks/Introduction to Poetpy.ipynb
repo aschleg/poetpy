{
 "cells": [
  {
   "cell_type": "markdown",
   "metadata": {},
   "source": [
    "The `poetpy` library is a Python wrapper for the [PoetryDB API](https://github.com/thundercomb/poetrydb). The library provides a Pythonic interface for interacting with and extracting information from the PoetryDB database. In this introductory notebook, we will explore some of the basic functionality for interacting with the PoetryDB database."
   ]
  },
  {
   "cell_type": "markdown",
   "metadata": {},
   "source": [
    "## First Steps"
   ]
  },
  {
   "cell_type": "markdown",
   "metadata": {},
   "source": [
    "Make sure the `poetpy` library is installed. The easiest way to install the library is through pip.\n",
    "\n",
    "`pip install poetpy`\n",
    "\n",
    "An alternative installation option is to clone or download the Github repo of [`poetpy`](https://github.com/aschleg/poetpy) and invoke the `setup.py` installation command.\n",
    "\n",
    "`python setup.py install`"
   ]
  },
  {
   "cell_type": "markdown",
   "metadata": {},
   "source": [
    "## Using the API"
   ]
  },
  {
   "cell_type": "markdown",
   "metadata": {},
   "source": [
    "The `get_poetry` function is the primary interface for interacting with the PoetryDB API. "
   ]
  },
  {
   "cell_type": "code",
   "execution_count": 1,
   "metadata": {},
   "outputs": [],
   "source": [
    "from poetpy import get_poetry"
   ]
  },
  {
   "cell_type": "markdown",
   "metadata": {},
   "source": [
    "### Basic Usage"
   ]
  },
  {
   "cell_type": "markdown",
   "metadata": {},
   "source": [
    "The only required parameter for accessing the PoetryDB API is the `input_term`. The `input_term` can be any one or a combination of 'author', 'title', 'lines', or 'linecount'. For example, let's say we are interested in finding all of the authors currently in the database."
   ]
  },
  {
   "cell_type": "code",
   "execution_count": 2,
   "metadata": {},
   "outputs": [],
   "source": [
    "authors = get_poetry('author')"
   ]
  },
  {
   "cell_type": "markdown",
   "metadata": {},
   "source": [
    "Because the output will be somewhat lengthy, let's just print the length of the returned object to see how many authors are in the database."
   ]
  },
  {
   "cell_type": "code",
   "execution_count": 3,
   "metadata": {},
   "outputs": [
    {
     "data": {
      "text/plain": [
       "129"
      ]
     },
     "execution_count": 3,
     "metadata": {},
     "output_type": "execute_result"
    }
   ],
   "source": [
    "len(authors['authors'])"
   ]
  },
  {
   "cell_type": "markdown",
   "metadata": {},
   "source": [
    "We can also do the same as above but with the number of poems and sonnets in the database by changing the 'author' `input_term` to 'title'."
   ]
  },
  {
   "cell_type": "code",
   "execution_count": 4,
   "metadata": {},
   "outputs": [
    {
     "data": {
      "text/plain": [
       "2972"
      ]
     },
     "execution_count": 4,
     "metadata": {},
     "output_type": "execute_result"
    }
   ],
   "source": [
    "titles = get_poetry('title')\n",
    "len(titles['titles'])"
   ]
  },
  {
   "cell_type": "markdown",
   "metadata": {},
   "source": [
    "We see there are just under 3,000 poems and 130 authors currently in the PoetryDB. With this information, we can then find the average number of poems for each author."
   ]
  },
  {
   "cell_type": "code",
   "execution_count": 5,
   "metadata": {},
   "outputs": [
    {
     "data": {
      "text/plain": [
       "23.03875968992248"
      ]
     },
     "execution_count": 5,
     "metadata": {},
     "output_type": "execute_result"
    }
   ],
   "source": [
    "len(titles['titles']) / len(authors['authors'])"
   ]
  },
  {
   "cell_type": "markdown",
   "metadata": {},
   "source": [
    "### Specifying Search Parameters"
   ]
  },
  {
   "cell_type": "markdown",
   "metadata": {},
   "source": [
    "In addition to the `input_term` parameter, a corresponding `search_term` parameter can also be passed to refine the returned results. For example, let's say we are interested in finding [William Shakespeare's](https://en.wikipedia.org/wiki/William_Shakespeare) poetry."
   ]
  },
  {
   "cell_type": "code",
   "execution_count": 6,
   "metadata": {},
   "outputs": [],
   "source": [
    "ab = get_poetry('author', 'William Shakespeare')"
   ]
  },
  {
   "cell_type": "code",
   "execution_count": 7,
   "metadata": {},
   "outputs": [
    {
     "data": {
      "text/plain": [
       "162"
      ]
     },
     "execution_count": 7,
     "metadata": {},
     "output_type": "execute_result"
    }
   ],
   "source": [
    "len(ab)"
   ]
  },
  {
   "cell_type": "markdown",
   "metadata": {},
   "source": [
    "The search found 162 matching poems and sonnets for William Shakespeare! Let's presume we are only interested in one of Shakespeare's sonnets. Rather than going through the relatively large JSON object that was returned in the previous search, we can edit the query to look for the title of the sonnet we want to return."
   ]
  },
  {
   "cell_type": "code",
   "execution_count": 8,
   "metadata": {},
   "outputs": [
    {
     "data": {
      "text/plain": [
       "[{'author': 'William Shakespeare',\n",
       "  'linecount': '14',\n",
       "  'lines': ['From fairest creatures we desire increase,',\n",
       "   \"That thereby beauty's rose might never die,\",\n",
       "   'But as the riper should by time decease,',\n",
       "   'His tender heir might bear his memory:',\n",
       "   'But thou contracted to thine own bright eyes,',\n",
       "   \"Feed'st thy light's flame with self-substantial fuel,\",\n",
       "   'Making a famine where abundance lies,',\n",
       "   'Thy self thy foe, to thy sweet self too cruel:',\n",
       "   \"Thou that art now the world's fresh ornament,\",\n",
       "   'And only herald to the gaudy spring,',\n",
       "   'Within thine own bud buriest thy content,',\n",
       "   \"And tender churl mak'st waste in niggarding:\",\n",
       "   '  Pity the world, or else this glutton be,',\n",
       "   \"  To eat the world's due, by the grave and thee.\"],\n",
       "  'title': 'Sonnet 1: From fairest creatures we desire increase'}]"
      ]
     },
     "execution_count": 8,
     "metadata": {},
     "output_type": "execute_result"
    }
   ],
   "source": [
    "get_poetry('title', 'Sonnet 1: From fairest creatures we desire increase')"
   ]
  },
  {
   "cell_type": "markdown",
   "metadata": {},
   "source": [
    "Now, let's say we do not know the name of the sonnet we wish to find, but we do happen to know one of the lines from the sonnet. By specifying 'lines' in the `input_term` parameter and then passing the known line in the `search_term` parameter, the same result as before will be returned."
   ]
  },
  {
   "cell_type": "code",
   "execution_count": 9,
   "metadata": {},
   "outputs": [
    {
     "data": {
      "text/plain": [
       "[{'author': 'William Shakespeare',\n",
       "  'linecount': '14',\n",
       "  'lines': ['From fairest creatures we desire increase,',\n",
       "   \"That thereby beauty's rose might never die,\",\n",
       "   'But as the riper should by time decease,',\n",
       "   'His tender heir might bear his memory:',\n",
       "   'But thou contracted to thine own bright eyes,',\n",
       "   \"Feed'st thy light's flame with self-substantial fuel,\",\n",
       "   'Making a famine where abundance lies,',\n",
       "   'Thy self thy foe, to thy sweet self too cruel:',\n",
       "   \"Thou that art now the world's fresh ornament,\",\n",
       "   'And only herald to the gaudy spring,',\n",
       "   'Within thine own bud buriest thy content,',\n",
       "   \"And tender churl mak'st waste in niggarding:\",\n",
       "   '  Pity the world, or else this glutton be,',\n",
       "   \"  To eat the world's due, by the grave and thee.\"],\n",
       "  'title': 'Sonnet 1: From fairest creatures we desire increase'}]"
      ]
     },
     "execution_count": 9,
     "metadata": {},
     "output_type": "execute_result"
    }
   ],
   "source": [
    "get_poetry('lines', 'But thou contracted to thine own bright eyes,')"
   ]
  },
  {
   "cell_type": "markdown",
   "metadata": {},
   "source": [
    "### Filtering Returned Results"
   ]
  },
  {
   "cell_type": "markdown",
   "metadata": {},
   "source": [
    "The `get_poetry` function also provides an `output` parameter that can filter the data returned from a query. As an example, let's use the previous search but assume we are only interested in returning the author, title, and linecount of the matching sonnet."
   ]
  },
  {
   "cell_type": "code",
   "execution_count": 10,
   "metadata": {},
   "outputs": [
    {
     "data": {
      "text/plain": [
       "[{'author': 'William Shakespeare',\n",
       "  'linecount': '14',\n",
       "  'title': 'Sonnet 1: From fairest creatures we desire increase'}]"
      ]
     },
     "execution_count": 10,
     "metadata": {},
     "output_type": "execute_result"
    }
   ],
   "source": [
    "get_poetry('lines', 'But thou contracted to thine own bright eyes,', 'author,title,linecount')"
   ]
  },
  {
   "cell_type": "markdown",
   "metadata": {},
   "source": [
    "Similar to the `input_term` parameter, the `output` parameter can be one or any combination of 'author', 'title', 'lines', 'linecount'."
   ]
  },
  {
   "cell_type": "markdown",
   "metadata": {},
   "source": [
    "### Combination Searches"
   ]
  },
  {
   "cell_type": "markdown",
   "metadata": {},
   "source": [
    "Multiple terms can be specified in the `input_term` parameter with a comma delimiter to return several result sets within one API call. The respective input terms should each have a corresponding `search_term` delimited by a semi-colon. For example, let's say we want to find the full title name and the line count of [John Milton's](https://en.wikipedia.org/wiki/John_Milton) poetry with [*Paradise Lost*](https://en.wikipedia.org/wiki/Paradise_Lost) in the title."
   ]
  },
  {
   "cell_type": "code",
   "execution_count": 11,
   "metadata": {},
   "outputs": [
    {
     "data": {
      "text/plain": [
       "[{'linecount': 640, 'title': 'Paradise Lost: Book 07'},\n",
       " {'linecount': 912, 'title': 'Paradise Lost: Book 06'},\n",
       " {'linecount': 907, 'title': 'Paradise Lost: Book 05'},\n",
       " {'linecount': 1055, 'title': 'Paradise Lost: Book 02'},\n",
       " {'linecount': 650, 'title': 'Paradise Lost: Book 12'},\n",
       " {'linecount': 653, 'title': 'Paradise Lost: Book 08'},\n",
       " {'linecount': 925, 'title': 'Paradise Lost: Book 11'},\n",
       " {'linecount': 798, 'title': 'Paradise Lost: Book 01'},\n",
       " {'linecount': 743, 'title': 'Paradise Lost: Book 03'},\n",
       " {'linecount': 1188, 'title': 'Paradise Lost: Book 09'},\n",
       " {'linecount': 1012, 'title': 'Paradise Lost: Book 04'},\n",
       " {'linecount': 1073, 'title': 'Paradise Lost: Book 10'}]"
      ]
     },
     "execution_count": 11,
     "metadata": {},
     "output_type": "execute_result"
    }
   ],
   "source": [
    "get_poetry('title,author', 'Paradise Lost;Milton', 'title,linecount')"
   ]
  },
  {
   "cell_type": "markdown",
   "metadata": {},
   "source": [
    "As another example, let's say we are interested in finding all of William Shakespeare's poems and sonnets that are fourteen lines long (a [sonnet](http://www.english.illinois.edu/maps/sonnet.htm) is a poem of 14 equal length lines)."
   ]
  },
  {
   "cell_type": "code",
   "execution_count": 13,
   "metadata": {},
   "outputs": [
    {
     "data": {
      "text/plain": [
       "152"
      ]
     },
     "execution_count": 13,
     "metadata": {},
     "output_type": "execute_result"
    }
   ],
   "source": [
    "fourteen_lines = get_poetry('author,linecount', 'William Shakespeare;14', 'title,linecount')\n",
    "len(fourteen_lines)"
   ]
  },
  {
   "cell_type": "markdown",
   "metadata": {},
   "source": [
    "## Other Resources"
   ]
  },
  {
   "cell_type": "markdown",
   "metadata": {},
   "source": [
    "The [PoetryDB API](https://github.com/thundercomb/poetrydb) Github page contains information on the implementation and design of the PoetryDB and its API, along with some more examples for working with the API (though they are not in Python)."
   ]
  }
 ],
 "metadata": {
  "kernelspec": {
   "display_name": "Python 3",
   "language": "python",
   "name": "python3"
  },
  "language_info": {
   "codemirror_mode": {
    "name": "ipython",
    "version": 3
   },
   "file_extension": ".py",
   "mimetype": "text/x-python",
   "name": "python",
   "nbconvert_exporter": "python",
   "pygments_lexer": "ipython3",
   "version": "3.6.4"
  }
 },
 "nbformat": 4,
 "nbformat_minor": 2
}
